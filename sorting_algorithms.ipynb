{
  "nbformat": 4,
  "nbformat_minor": 0,
  "metadata": {
    "colab": {
      "name": "sorting_algorithms.ipynb",
      "version": "0.3.2",
      "provenance": [],
      "collapsed_sections": [],
      "include_colab_link": true
    },
    "kernelspec": {
      "name": "python3",
      "display_name": "Python 3"
    },
    "accelerator": "GPU"
  },
  "cells": [
    {
      "cell_type": "markdown",
      "metadata": {
        "id": "view-in-github",
        "colab_type": "text"
      },
      "source": [
        "<a href=\"https://colab.research.google.com/github/sonudk/DS/blob/master/sorting_algorithms.ipynb\" target=\"_parent\"><img src=\"https://colab.research.google.com/assets/colab-badge.svg\" alt=\"Open In Colab\"/></a>"
      ]
    },
    {
      "cell_type": "markdown",
      "metadata": {
        "id": "LrH4T5k9qzaT",
        "colab_type": "text"
      },
      "source": [
        "# Selection Sort"
      ]
    },
    {
      "cell_type": "markdown",
      "metadata": {
        "id": "M-Duz21xsrYE",
        "colab_type": "text"
      },
      "source": [
        "some info about algo\n",
        "like >> worst,best.avg ,omega, bigO ,theta,stability"
      ]
    },
    {
      "cell_type": "code",
      "metadata": {
        "id": "XuBUmN2h_iWG",
        "colab_type": "code",
        "colab": {}
      },
      "source": [
        "def selection_sort(A):\n",
        "  n = len(A)\n",
        "  B = []\n",
        "  for i in range(n):\n",
        "    B.append(min(A))\n",
        "    A.pop(A.index(min(A)))\n",
        "  return B  "
      ],
      "execution_count": 0,
      "outputs": []
    },
    {
      "cell_type": "code",
      "metadata": {
        "id": "NEW_bUxY_j__",
        "colab_type": "code",
        "colab": {}
      },
      "source": [
        "def selection_sort1(A):\n",
        "  n = len(A)\n",
        "  B = []\n",
        "  for i in range(n):\n",
        "    \n",
        "    B.append(min(A))\n",
        "    x = A.index(min(A))\n",
        "    A[x] = 2**31#try to push largest integer\n",
        "  return B  "
      ],
      "execution_count": 0,
      "outputs": []
    },
    {
      "cell_type": "code",
      "metadata": {
        "id": "F87q301r_lwL",
        "colab_type": "code",
        "colab": {}
      },
      "source": [
        "def selection_sort2(A):\n",
        "  n = len(A)\n",
        "  #B = []\n",
        "  for i in range(n):\n",
        "    m = A[i]\n",
        "    for j in range(i+1,n):\n",
        "      if m>A[j]:\n",
        "        m = A[j]\n",
        "      elif m< A[j]:\n",
        "        m = A[i]\n",
        "    y = A[i]\n",
        "    A[A.index(m)] = y\n",
        "    A[i] = m\n",
        "  return A  "
      ],
      "execution_count": 0,
      "outputs": []
    },
    {
      "cell_type": "markdown",
      "metadata": {
        "id": "wWswJ-Vvq3oC",
        "colab_type": "text"
      },
      "source": [
        "# Bubble Sort"
      ]
    },
    {
      "cell_type": "markdown",
      "metadata": {
        "id": "JB7ValX1svD4",
        "colab_type": "text"
      },
      "source": [
        "some info about algo"
      ]
    },
    {
      "cell_type": "code",
      "metadata": {
        "id": "836nNdaOl-Ew",
        "colab_type": "code",
        "colab": {}
      },
      "source": [
        "def sort_check(A):\n",
        "  for i in range(len(A)-1):\n",
        "    if A[i] <= A[i+1]:\n",
        "      pass\n",
        "    else:\n",
        "      return False\n",
        "   "
      ],
      "execution_count": 0,
      "outputs": []
    },
    {
      "cell_type": "code",
      "metadata": {
        "id": "y0EVrBfBDKUe",
        "colab_type": "code",
        "colab": {}
      },
      "source": [
        "def bubble_sort(A):\n",
        "  n = len(A)\n",
        "  for i in range(n-1):\n",
        "    if sort_check(A) == False:\n",
        "      for j in range(1,n-i):# n-i is because we don't need to run it over sorted array/list\n",
        "        if A[j-1]<A[j]:\n",
        "          pass\n",
        "        else:\n",
        "          x = A[j-1]\n",
        "          A[j-1] = A[j]\n",
        "          A[j] = x\n",
        "    else:\n",
        "      break\n",
        "  return A"
      ],
      "execution_count": 0,
      "outputs": []
    },
    {
      "cell_type": "code",
      "metadata": {
        "id": "d8JMPi-Dr-d7",
        "colab_type": "code",
        "colab": {}
      },
      "source": [
        "# improved algo \n",
        "## it doesn't use another function that we defined to chech sort it does with the help of flag\n",
        "def bubble_sort2(A):\n",
        "  n = len(A)\n",
        "  for i in range(n-1):\n",
        "    flag = 0\n",
        "    for j in range(1,n-i):# n-i is because we don't need to run it over sorted array/list\n",
        "      if A[j-1]<A[j]:\n",
        "        pass\n",
        "      else:\n",
        "        x = A[j-1]\n",
        "        A[j-1] = A[j]\n",
        "        A[j] = x\n",
        "        flag = flag+1\n",
        "    if flag ==0:\n",
        "      break\n",
        "  return A"
      ],
      "execution_count": 0,
      "outputs": []
    },
    {
      "cell_type": "markdown",
      "metadata": {
        "id": "7vHLdSd2w9DS",
        "colab_type": "text"
      },
      "source": [
        "# Insertion Sort"
      ]
    },
    {
      "cell_type": "markdown",
      "metadata": {
        "id": "syHmxGg5xAPj",
        "colab_type": "text"
      },
      "source": [
        "some things"
      ]
    },
    {
      "cell_type": "markdown",
      "metadata": {
        "id": "69oJLSsixLbI",
        "colab_type": "text"
      },
      "source": [
        "to get time taken by program\n",
        "\n",
        "import time\n",
        "\n",
        "start = time.time()\n",
        "\n",
        "\"the code you want to test stays here\"\n",
        "\n",
        "end = time.time()\n",
        "\n",
        "print(end - start)"
      ]
    },
    {
      "cell_type": "code",
      "metadata": {
        "id": "jvwfCObArcQT",
        "colab_type": "code",
        "colab": {}
      },
      "source": [
        "def insertion_sort(A):\n",
        "  n = len(A)\n",
        "  for i in range(1,n):\n",
        "    key = A[i]\n",
        "    hole = i\n",
        "    while hole>0 and A[hole-1]>key:\n",
        "      A[hole] = A[hole-1]\n",
        "      hole = hole - 1\n",
        "    A[hole] = key\n",
        "  return A"
      ],
      "execution_count": 0,
      "outputs": []
    },
    {
      "cell_type": "markdown",
      "metadata": {
        "id": "G-4Yv3PraQMc",
        "colab_type": "text"
      },
      "source": [
        "# Merge Sort"
      ]
    },
    {
      "cell_type": "code",
      "metadata": {
        "id": "i-oqULtZaO2i",
        "colab_type": "code",
        "colab": {}
      },
      "source": [
        ""
      ],
      "execution_count": 0,
      "outputs": []
    }
  ]
}